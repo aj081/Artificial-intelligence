{
 "cells": [
  {
   "cell_type": "markdown",
   "id": "92ba0d17",
   "metadata": {},
   "source": [
    "# Image classification using MNIST Data\n",
    "\n",
    "- Load the dataset \n",
    "- Observe the shape of the data \n",
    "- View full image \n",
    "- Observe the pixel value \n",
    "- Model Building (usng FFNN - MLP acrhitecture)\n",
    "- Evaluate the model \n",
    "- Performance analysis"
   ]
  },
  {
   "cell_type": "code",
   "execution_count": 1,
   "id": "2fb02374",
   "metadata": {},
   "outputs": [],
   "source": [
    "import tensorflow as tf \n",
    "import matplotlib.pyplot as plt \n",
    "\n",
    "import numpy as np \n",
    "import pandas as pd"
   ]
  },
  {
   "cell_type": "code",
   "execution_count": 2,
   "id": "4f375395",
   "metadata": {},
   "outputs": [],
   "source": [
    "(trainX, trainY), (testX, testY) = tf.keras.datasets.mnist.load_data()"
   ]
  },
  {
   "cell_type": "code",
   "execution_count": 3,
   "id": "069788ac",
   "metadata": {},
   "outputs": [
    {
     "name": "stdout",
     "output_type": "stream",
     "text": [
      "(60000, 28, 28)\n",
      "(60000,)\n",
      "(10000, 28, 28)\n",
      "(10000,)\n"
     ]
    }
   ],
   "source": [
    "print(trainX.shape)   # Total of 60000 Images each witih size 28x28 pixels  \n",
    "print(trainY.shape)\n",
    "print(testX.shape)\n",
    "print(testY.shape)"
   ]
  },
  {
   "cell_type": "code",
   "execution_count": 4,
   "id": "f743b725",
   "metadata": {},
   "outputs": [
    {
     "data": {
      "text/plain": [
       "array([[  0,   0,   0,   0,   0,   0,   0,   0,   0,   0,   0,   0,   0,   0,   0,   0,   0,   0,   0,   0,   0,   0,   0,   0,   0,   0,   0,   0],\n",
       "       [  0,   0,   0,   0,   0,   0,   0,   0,   0,   0,   0,   0,   0,   0,   0,   0,   0,   0,   0,   0,   0,   0,   0,   0,   0,   0,   0,   0],\n",
       "       [  0,   0,   0,   0,   0,   0,   0,   0,   0,   0,   0,   0,   0,   0,   0,   0,   0,   0,   0,   0,   0,   0,   0,   0,   0,   0,   0,   0],\n",
       "       [  0,   0,   0,   0,   0,   0,   0,   0,   0,   0,   0,   0,   0,   0,   0,   0,   0,   0,   0,   0,   0,   0,   0,   0,   0,   0,   0,   0],\n",
       "       [  0,   0,   0,   0,   0,   0,   0,   0,   0,   0,   0,   0,   0,   0,   0,   0,   0,   0,   0,   0,   0,   0,   0,   0,   0,   0,   0,   0],\n",
       "       [  0,   0,   0,   0,   0,   0,   0,   0,   0,   0,   0,   0,   3,  18,  18,  18, 126, 136, 175,  26, 166, 255, 247, 127,   0,   0,   0,   0],\n",
       "       [  0,   0,   0,   0,   0,   0,   0,   0,  30,  36,  94, 154, 170, 253, 253, 253, 253, 253, 225, 172, 253, 242, 195,  64,   0,   0,   0,   0],\n",
       "       [  0,   0,   0,   0,   0,   0,   0,  49, 238, 253, 253, 253, 253, 253, 253, 253, 253, 251,  93,  82,  82,  56,  39,   0,   0,   0,   0,   0],\n",
       "       [  0,   0,   0,   0,   0,   0,   0,  18, 219, 253, 253, 253, 253, 253, 198, 182, 247, 241,   0,   0,   0,   0,   0,   0,   0,   0,   0,   0],\n",
       "       [  0,   0,   0,   0,   0,   0,   0,   0,  80, 156, 107, 253, 253, 205,  11,   0,  43, 154,   0,   0,   0,   0,   0,   0,   0,   0,   0,   0],\n",
       "       [  0,   0,   0,   0,   0,   0,   0,   0,   0,  14,   1, 154, 253,  90,   0,   0,   0,   0,   0,   0,   0,   0,   0,   0,   0,   0,   0,   0],\n",
       "       [  0,   0,   0,   0,   0,   0,   0,   0,   0,   0,   0, 139, 253, 190,   2,   0,   0,   0,   0,   0,   0,   0,   0,   0,   0,   0,   0,   0],\n",
       "       [  0,   0,   0,   0,   0,   0,   0,   0,   0,   0,   0,  11, 190, 253,  70,   0,   0,   0,   0,   0,   0,   0,   0,   0,   0,   0,   0,   0],\n",
       "       [  0,   0,   0,   0,   0,   0,   0,   0,   0,   0,   0,   0,  35, 241, 225, 160, 108,   1,   0,   0,   0,   0,   0,   0,   0,   0,   0,   0],\n",
       "       [  0,   0,   0,   0,   0,   0,   0,   0,   0,   0,   0,   0,   0,  81, 240, 253, 253, 119,  25,   0,   0,   0,   0,   0,   0,   0,   0,   0],\n",
       "       [  0,   0,   0,   0,   0,   0,   0,   0,   0,   0,   0,   0,   0,   0,  45, 186, 253, 253, 150,  27,   0,   0,   0,   0,   0,   0,   0,   0],\n",
       "       [  0,   0,   0,   0,   0,   0,   0,   0,   0,   0,   0,   0,   0,   0,   0,  16,  93, 252, 253, 187,   0,   0,   0,   0,   0,   0,   0,   0],\n",
       "       [  0,   0,   0,   0,   0,   0,   0,   0,   0,   0,   0,   0,   0,   0,   0,   0,   0, 249, 253, 249,  64,   0,   0,   0,   0,   0,   0,   0],\n",
       "       [  0,   0,   0,   0,   0,   0,   0,   0,   0,   0,   0,   0,   0,   0,  46, 130, 183, 253, 253, 207,   2,   0,   0,   0,   0,   0,   0,   0],\n",
       "       [  0,   0,   0,   0,   0,   0,   0,   0,   0,   0,   0,   0,  39, 148, 229, 253, 253, 253, 250, 182,   0,   0,   0,   0,   0,   0,   0,   0],\n",
       "       [  0,   0,   0,   0,   0,   0,   0,   0,   0,   0,  24, 114, 221, 253, 253, 253, 253, 201,  78,   0,   0,   0,   0,   0,   0,   0,   0,   0],\n",
       "       [  0,   0,   0,   0,   0,   0,   0,   0,  23,  66, 213, 253, 253, 253, 253, 198,  81,   2,   0,   0,   0,   0,   0,   0,   0,   0,   0,   0],\n",
       "       [  0,   0,   0,   0,   0,   0,  18, 171, 219, 253, 253, 253, 253, 195,  80,   9,   0,   0,   0,   0,   0,   0,   0,   0,   0,   0,   0,   0],\n",
       "       [  0,   0,   0,   0,  55, 172, 226, 253, 253, 253, 253, 244, 133,  11,   0,   0,   0,   0,   0,   0,   0,   0,   0,   0,   0,   0,   0,   0],\n",
       "       [  0,   0,   0,   0, 136, 253, 253, 253, 212, 135, 132,  16,   0,   0,   0,   0,   0,   0,   0,   0,   0,   0,   0,   0,   0,   0,   0,   0],\n",
       "       [  0,   0,   0,   0,   0,   0,   0,   0,   0,   0,   0,   0,   0,   0,   0,   0,   0,   0,   0,   0,   0,   0,   0,   0,   0,   0,   0,   0],\n",
       "       [  0,   0,   0,   0,   0,   0,   0,   0,   0,   0,   0,   0,   0,   0,   0,   0,   0,   0,   0,   0,   0,   0,   0,   0,   0,   0,   0,   0],\n",
       "       [  0,   0,   0,   0,   0,   0,   0,   0,   0,   0,   0,   0,   0,   0,   0,   0,   0,   0,   0,   0,   0,   0,   0,   0,   0,   0,   0,   0]], dtype=uint8)"
      ]
     },
     "execution_count": 4,
     "metadata": {},
     "output_type": "execute_result"
    }
   ],
   "source": [
    "np.set_printoptions(linewidth=200)\n",
    "trainX[0]    # Displaying the pixels "
   ]
  },
  {
   "cell_type": "markdown",
   "id": "d7d11764",
   "metadata": {},
   "source": [
    "\n",
    "\n"
   ]
  },
  {
   "cell_type": "code",
   "execution_count": 5,
   "id": "2ac84441",
   "metadata": {},
   "outputs": [
    {
     "data": {
      "text/plain": [
       "<matplotlib.image.AxesImage at 0x25d23d4f9a0>"
      ]
     },
     "execution_count": 5,
     "metadata": {},
     "output_type": "execute_result"
    },
    {
     "data": {
      "image/png": "[encoded data removed]",
      "text/plain": [
       "<Figure size 432x288 with 1 Axes>"
      ]
     },
     "metadata": {
      "needs_background": "light"
     },
     "output_type": "display_data"
    }
   ],
   "source": [
    "# Display the pattern from above\n",
    "\n",
    "plt.imshow(trainX[0])"
   ]
  },
  {
   "cell_type": "code",
   "execution_count": 6,
   "id": "9d0d13b1",
   "metadata": {},
   "outputs": [
    {
     "data": {
      "text/plain": [
       "5"
      ]
     },
     "execution_count": 6,
     "metadata": {},
     "output_type": "execute_result"
    }
   ],
   "source": [
    "trainY[0]"
   ]
  },
  {
   "cell_type": "markdown",
   "id": "2104550c",
   "metadata": {},
   "source": [
    "\n",
    "\n"
   ]
  },
  {
   "cell_type": "markdown",
   "id": "a66b32e1",
   "metadata": {},
   "source": [
    "## Convert the output labels to Multiple Values \n",
    "\n",
    "- Applying one-hot Enconding \n",
    "- This will help us to locate the digit in the array, as our result will be array of probablities and we need to choose the position with the highest probablity \n"
   ]
  },
  {
   "cell_type": "code",
   "execution_count": 7,
   "id": "6f77d23a",
   "metadata": {},
   "outputs": [],
   "source": [
    "trainY = tf.keras.utils.to_categorical(trainY, num_classes=10)\n",
    "testY = tf.keras.utils.to_categorical(testY, num_classes=10)"
   ]
  },
  {
   "cell_type": "code",
   "execution_count": 8,
   "id": "18f41159",
   "metadata": {},
   "outputs": [
    {
     "data": {
      "text/plain": [
       "array([0., 0., 0., 0., 0., 0., 1., 0., 0., 0.], dtype=float32)"
      ]
     },
     "execution_count": 8,
     "metadata": {},
     "output_type": "execute_result"
    }
   ],
   "source": [
    "trainY[323]"
   ]
  },
  {
   "cell_type": "markdown",
   "id": "2eb63d2e",
   "metadata": {},
   "source": [
    "\n",
    "\n"
   ]
  },
  {
   "cell_type": "markdown",
   "id": "43ff2d4d",
   "metadata": {},
   "source": [
    "# Build the graph"
   ]
  },
  {
   "cell_type": "code",
   "execution_count": 9,
   "id": "e41e7f8f",
   "metadata": {},
   "outputs": [],
   "source": [
    "tf.keras.backend.clear_session()    # To remove the default graph if any \n",
    "\n",
    "\n",
    "#Initialize Sequential model\n",
    "model = tf.keras.models.Sequential()\n",
    "\n",
    "\n",
    "\n",
    "# Reshape the data from 2D to 1D, ie, 28x28 to 784\n",
    "# Use the reshape() or use flatten() also\n",
    "# This is because NN cannot handle 2D data. It should be always be 1D vector\n",
    "\n",
    "\n",
    "\n",
    "model.add(tf.keras.layers.Reshape((784,), input_shape=(28,28,)))\n",
    "\n",
    "\n",
    "\n",
    "# Normalize the data \n",
    "# Here, Batch Normalization takes a batch of the data and performs z-score normalization by taking the mean and std of the natch of the data \n",
    "\n",
    "#model.add(tf.keras.layers.BatchNormalization())\n",
    "\n",
    "\n",
    "\n",
    "# Alternatively, The following code does Min-Max normalization :  \n",
    "trainX, testX = trainX/255.0, testX/255.0\n",
    "\n",
    "# Adding the first hidden layer \n",
    "model.add(tf.keras.layers.Dense(200, activation = 'sigmoid'))\n",
    "\n",
    "# Adding the Second layer \n",
    "model.add(tf.keras.layers.Dense(100, activation = 'sigmoid'))\n",
    "\n",
    "# Addign the Third Layer\n",
    "model.add(tf.keras.layers.Dense(60, activation = 'sigmoid'))\n",
    "\n",
    "model.add(tf.keras.layers.Dense(30, activation = 'sigmoid'))\n",
    "\n",
    "\n",
    "# Adding the OUTPUT LAYER \n",
    "model.add(tf.keras.layers.Dense(10, activation = 'softmax'))\n"
   ]
  },
  {
   "cell_type": "markdown",
   "id": "85cd7624",
   "metadata": {},
   "source": [
    "\n",
    "\n"
   ]
  },
  {
   "cell_type": "code",
   "execution_count": 10,
   "id": "e48bc9fe",
   "metadata": {},
   "outputs": [
    {
     "name": "stdout",
     "output_type": "stream",
     "text": [
      "Model: \"sequential\"\n",
      "_________________________________________________________________\n",
      "Layer (type)                 Output Shape              Param #   \n",
      "=================================================================\n",
      "reshape (Reshape)            (None, 784)               0         \n",
      "_________________________________________________________________\n",
      "dense (Dense)                (None, 200)               157000    \n",
      "_________________________________________________________________\n",
      "dense_1 (Dense)              (None, 100)               20100     \n",
      "_________________________________________________________________\n",
      "dense_2 (Dense)              (None, 60)                6060      \n",
      "_________________________________________________________________\n",
      "dense_3 (Dense)              (None, 30)                1830      \n",
      "_________________________________________________________________\n",
      "dense_4 (Dense)              (None, 10)                310       \n",
      "=================================================================\n",
      "Total params: 185,300\n",
      "Trainable params: 185,300\n",
      "Non-trainable params: 0\n",
      "_________________________________________________________________\n"
     ]
    }
   ],
   "source": [
    "model.summary()"
   ]
  },
  {
   "cell_type": "markdown",
   "id": "5dc21842",
   "metadata": {},
   "source": [
    "# Compile the graph"
   ]
  },
  {
   "cell_type": "code",
   "execution_count": 11,
   "id": "2ec2ab60",
   "metadata": {},
   "outputs": [],
   "source": [
    "# Creatae the optiizer ith non defaut learning rate \n",
    "sgd_optimizer = tf.keras.optimizers.SGD(learning_rate=0.03)\n",
    "\n",
    "#Compile the model \n",
    "model.compile(optimizer = sgd_optimizer, loss = 'categorical_crossentropy', metrics = ['accuracy'] )\n",
    "\n",
    "\n",
    "# model.compile(optimizer = 'adam', loss = 'categorical_crossentropy', metrics = ['accuracy'] )"
   ]
  },
  {
   "cell_type": "markdown",
   "id": "d4509fa2",
   "metadata": {},
   "source": [
    "\n",
    "\n"
   ]
  },
  {
   "cell_type": "markdown",
   "id": "9d296691",
   "metadata": {},
   "source": [
    "# Train the model\n",
    "\n",
    "- Batch size is given as 32\n",
    "- so, total number of batches = 60000/32 = 1875\n",
    "- In one epoch, the graph will iterate for 1875 times (total number of iterations for one epoch)\n",
    "- Total of 30 epoch, So, the graph wil run for 1875*30 = 56250 times "
   ]
  },
  {
   "cell_type": "code",
   "execution_count": 12,
   "id": "b926c836",
   "metadata": {},
   "outputs": [
    {
     "name": "stdout",
     "output_type": "stream",
     "text": [
      "Epoch 1/30\n",
      "1875/1875 [==============================] - 8s 4ms/step - loss: 2.3026 - accuracy: 0.1116 - val_loss: 2.2992 - val_accuracy: 0.1028\n",
      "Epoch 2/30\n",
      "1875/1875 [==============================] - 8s 4ms/step - loss: 2.2963 - accuracy: 0.1227 - val_loss: 2.2894 - val_accuracy: 0.1731\n",
      "Epoch 3/30\n",
      "1875/1875 [==============================] - 8s 4ms/step - loss: 2.2625 - accuracy: 0.1943 - val_loss: 2.1705 - val_accuracy: 0.2847\n",
      "Epoch 4/30\n",
      "1875/1875 [==============================] - 7s 4ms/step - loss: 1.8755 - accuracy: 0.3236 - val_loss: 1.6744 - val_accuracy: 0.3615\n",
      "Epoch 5/30\n",
      "1875/1875 [==============================] - 7s 4ms/step - loss: 1.4864 - accuracy: 0.4456 - val_loss: 1.2843 - val_accuracy: 0.5246\n",
      "Epoch 6/30\n",
      "1875/1875 [==============================] - 7s 4ms/step - loss: 1.1485 - accuracy: 0.5835 - val_loss: 1.0449 - val_accuracy: 0.6316\n",
      "Epoch 7/30\n",
      "1875/1875 [==============================] - 7s 4ms/step - loss: 0.9793 - accuracy: 0.6631 - val_loss: 0.9170 - val_accuracy: 0.7000\n",
      "Epoch 8/30\n",
      "1875/1875 [==============================] - 8s 4ms/step - loss: 0.8641 - accuracy: 0.7217 - val_loss: 0.8129 - val_accuracy: 0.7465\n",
      "Epoch 9/30\n",
      "1875/1875 [==============================] - 7s 4ms/step - loss: 0.7617 - accuracy: 0.7697 - val_loss: 0.7064 - val_accuracy: 0.7876\n",
      "Epoch 10/30\n",
      "1875/1875 [==============================] - 7s 4ms/step - loss: 0.6593 - accuracy: 0.8151 - val_loss: 0.5982 - val_accuracy: 0.8407\n",
      "Epoch 11/30\n",
      "1875/1875 [==============================] - 7s 4ms/step - loss: 0.5495 - accuracy: 0.8536 - val_loss: 0.4961 - val_accuracy: 0.8700\n",
      "Epoch 12/30\n",
      "1875/1875 [==============================] - 8s 4ms/step - loss: 0.4676 - accuracy: 0.8740 - val_loss: 0.4355 - val_accuracy: 0.8859\n",
      "Epoch 13/30\n",
      "1875/1875 [==============================] - 7s 4ms/step - loss: 0.4146 - accuracy: 0.8877 - val_loss: 0.3877 - val_accuracy: 0.8996\n",
      "Epoch 14/30\n",
      "1875/1875 [==============================] - 7s 4ms/step - loss: 0.3761 - accuracy: 0.8989 - val_loss: 0.3568 - val_accuracy: 0.9080\n",
      "Epoch 15/30\n",
      "1875/1875 [==============================] - 8s 4ms/step - loss: 0.3435 - accuracy: 0.9070 - val_loss: 0.3521 - val_accuracy: 0.9027\n",
      "Epoch 16/30\n",
      "1875/1875 [==============================] - 7s 4ms/step - loss: 0.3180 - accuracy: 0.9145 - val_loss: 0.3090 - val_accuracy: 0.9183\n",
      "Epoch 17/30\n",
      "1875/1875 [==============================] - 8s 4ms/step - loss: 0.2951 - accuracy: 0.9206 - val_loss: 0.2927 - val_accuracy: 0.9198\n",
      "Epoch 18/30\n",
      "1875/1875 [==============================] - 8s 4ms/step - loss: 0.2767 - accuracy: 0.9251 - val_loss: 0.2932 - val_accuracy: 0.9185\n",
      "Epoch 19/30\n",
      "1875/1875 [==============================] - 8s 4ms/step - loss: 0.2590 - accuracy: 0.9304 - val_loss: 0.2636 - val_accuracy: 0.9279\n",
      "Epoch 20/30\n",
      "1875/1875 [==============================] - 8s 4ms/step - loss: 0.2446 - accuracy: 0.9331 - val_loss: 0.2531 - val_accuracy: 0.9325\n",
      "Epoch 21/30\n",
      "1875/1875 [==============================] - 8s 4ms/step - loss: 0.2315 - accuracy: 0.9383 - val_loss: 0.2315 - val_accuracy: 0.9408\n",
      "Epoch 22/30\n",
      "1875/1875 [==============================] - 8s 4ms/step - loss: 0.2188 - accuracy: 0.9404 - val_loss: 0.2222 - val_accuracy: 0.9406\n",
      "Epoch 23/30\n",
      "1875/1875 [==============================] - 8s 4ms/step - loss: 0.2080 - accuracy: 0.9436 - val_loss: 0.2193 - val_accuracy: 0.9425\n",
      "Epoch 24/30\n",
      "1875/1875 [==============================] - 7s 4ms/step - loss: 0.1981 - accuracy: 0.9459 - val_loss: 0.2114 - val_accuracy: 0.9442\n",
      "Epoch 25/30\n",
      "1875/1875 [==============================] - 7s 4ms/step - loss: 0.1877 - accuracy: 0.9483 - val_loss: 0.2179 - val_accuracy: 0.9393\n",
      "Epoch 26/30\n",
      "1875/1875 [==============================] - 7s 4ms/step - loss: 0.1792 - accuracy: 0.9514 - val_loss: 0.1941 - val_accuracy: 0.9479\n",
      "Epoch 27/30\n",
      "1875/1875 [==============================] - 7s 4ms/step - loss: 0.1701 - accuracy: 0.9528 - val_loss: 0.2163 - val_accuracy: 0.9395\n",
      "Epoch 28/30\n",
      "1875/1875 [==============================] - 8s 4ms/step - loss: 0.1629 - accuracy: 0.9553 - val_loss: 0.1796 - val_accuracy: 0.9511\n",
      "Epoch 29/30\n",
      "1875/1875 [==============================] - 8s 4ms/step - loss: 0.1551 - accuracy: 0.9569 - val_loss: 0.1748 - val_accuracy: 0.9509\n",
      "Epoch 30/30\n",
      "1875/1875 [==============================] - 8s 4ms/step - loss: 0.1476 - accuracy: 0.9590 - val_loss: 0.1775 - val_accuracy: 0.9494\n"
     ]
    },
    {
     "data": {
      "text/plain": [
       "<keras.callbacks.History at 0x25d2360ed90>"
      ]
     },
     "execution_count": 12,
     "metadata": {},
     "output_type": "execute_result"
    }
   ],
   "source": [
    "model.fit(trainX, trainY, validation_data = (testX, testY), epochs = 30, batch_size = 32)"
   ]
  },
  {
   "cell_type": "markdown",
   "id": "640e1894",
   "metadata": {},
   "source": [
    "\n",
    "\n"
   ]
  },
  {
   "cell_type": "markdown",
   "id": "d1961246",
   "metadata": {},
   "source": [
    "# Evaluate Accuracy"
   ]
  },
  {
   "cell_type": "markdown",
   "id": "2d26a4eb",
   "metadata": {},
   "source": [
    "Now compare how the model performs in the test data "
   ]
  },
  {
   "cell_type": "code",
   "execution_count": 13,
   "id": "289e52b3",
   "metadata": {},
   "outputs": [
    {
     "name": "stdout",
     "output_type": "stream",
     "text": [
      "313/313 - 1s - loss: 0.1775 - accuracy: 0.9494\n"
     ]
    }
   ],
   "source": [
    "test_loss, test_acc = model.evaluate(testX, testY, verbose=2)"
   ]
  },
  {
   "cell_type": "markdown",
   "id": "3c908ecd",
   "metadata": {},
   "source": [
    "\n",
    "\n"
   ]
  },
  {
   "cell_type": "markdown",
   "id": "fadf86d7",
   "metadata": {},
   "source": [
    "# Make predictions\n",
    "\n",
    "- With the model trained, you can use it to make predictions about images "
   ]
  },
  {
   "cell_type": "code",
   "execution_count": 14,
   "id": "6b6ff2cb",
   "metadata": {},
   "outputs": [],
   "source": [
    "predictions = model.predict(testX)"
   ]
  },
  {
   "cell_type": "code",
   "execution_count": 15,
   "id": "7381d1be",
   "metadata": {},
   "outputs": [
    {
     "data": {
      "text/plain": [
       "array([1.3965452e-10, 7.8813976e-04, 6.3397297e-06, 4.8157576e-04, 6.1897020e-07, 3.9065949e-08, 1.4500855e-09, 9.9665558e-01, 1.4329449e-06, 2.0662353e-03], dtype=float32)"
      ]
     },
     "execution_count": 15,
     "metadata": {},
     "output_type": "execute_result"
    }
   ],
   "source": [
    "predictions[0]"
   ]
  },
  {
   "cell_type": "code",
   "execution_count": 16,
   "id": "e3024c4d",
   "metadata": {},
   "outputs": [],
   "source": [
    "import numpy as np"
   ]
  },
  {
   "cell_type": "code",
   "execution_count": 17,
   "id": "f213d281",
   "metadata": {},
   "outputs": [
    {
     "data": {
      "text/plain": [
       "7"
      ]
     },
     "execution_count": 17,
     "metadata": {},
     "output_type": "execute_result"
    }
   ],
   "source": [
    "np.argmax(predictions[0])   # To get the highest probablity value from the 'predictions[0]'"
   ]
  },
  {
   "cell_type": "code",
   "execution_count": 18,
   "id": "a771bef8",
   "metadata": {},
   "outputs": [
    {
     "data": {
      "text/plain": [
       "array([0., 0., 0., 0., 0., 0., 0., 1., 0., 0.], dtype=float32)"
      ]
     },
     "execution_count": 18,
     "metadata": {},
     "output_type": "execute_result"
    }
   ],
   "source": [
    "testY[0]"
   ]
  },
  {
   "cell_type": "code",
   "execution_count": 19,
   "id": "ac635ad8",
   "metadata": {},
   "outputs": [
    {
     "data": {
      "text/plain": [
       "<matplotlib.image.AxesImage at 0x25d239e1cd0>"
      ]
     },
     "execution_count": 19,
     "metadata": {},
     "output_type": "execute_result"
    },
    {
     "data": {
      "image/png": "[encoded data removed]",
      "text/plain": [
       "<Figure size 432x288 with 1 Axes>"
      ]
     },
     "metadata": {
      "needs_background": "light"
     },
     "output_type": "display_data"
    }
   ],
   "source": [
    "plt.imshow(testX[0])"
   ]
  },
  {
   "cell_type": "markdown",
   "id": "035e4de4",
   "metadata": {},
   "source": [
    "\n",
    "\n"
   ]
  },
  {
   "cell_type": "code",
   "execution_count": null,
   "id": "401a5080",
   "metadata": {},
   "outputs": [],
   "source": [
    "\n",
    "\n"
   ]
  },
  {
   "cell_type": "markdown",
   "id": "f3a8331a",
   "metadata": {},
   "source": [
    "# Creation of confusion matrix"
   ]
  },
  {
   "cell_type": "code",
   "execution_count": 20,
   "id": "60866757",
   "metadata": {},
   "outputs": [],
   "source": [
    "from sklearn.metrics import confusion_matrix"
   ]
  },
  {
   "cell_type": "code",
   "execution_count": 23,
   "id": "f2b72e1a",
   "metadata": {},
   "outputs": [],
   "source": [
    "y_pred = np.argmax(predictions, axis = 1)\n",
    "y_test = np.argmax(testY, axis = 1)"
   ]
  },
  {
   "cell_type": "code",
   "execution_count": 24,
   "id": "7464926b",
   "metadata": {},
   "outputs": [
    {
     "data": {
      "text/plain": [
       "array([[ 959,    0,    1,    0,    0,    7,    9,    1,    2,    1],\n",
       "       [   0, 1105,    3,    4,    0,    1,    1,    0,   20,    1],\n",
       "       [   8,    1,  975,    7,    8,    3,    7,    6,   16,    1],\n",
       "       [   0,    0,    9,  953,    0,   30,    0,    5,   10,    3],\n",
       "       [   0,    0,    1,    0,  951,    1,   12,    0,    5,   12],\n",
       "       [   8,    0,    4,    6,    3,  853,    4,    0,   12,    2],\n",
       "       [   8,    2,    5,    0,    9,    9,  922,    0,    3,    0],\n",
       "       [   1,   17,   14,    5,    0,    1,    0,  942,    2,   46],\n",
       "       [   0,    2,    3,    4,    6,   22,    6,    1,  924,    6],\n",
       "       [   0,    2,    3,    4,   44,   20,    1,    9,   16,  910]], dtype=int64)"
      ]
     },
     "execution_count": 24,
     "metadata": {},
     "output_type": "execute_result"
    }
   ],
   "source": [
    "confusion_matrix(y_test, y_pred)"
   ]
  },
  {
   "cell_type": "code",
   "execution_count": 25,
   "id": "e7f987fa",
   "metadata": {},
   "outputs": [
    {
     "data": {
      "text/plain": [
       "array([[0., 0., 0., ..., 1., 0., 0.],\n",
       "       [0., 0., 1., ..., 0., 0., 0.],\n",
       "       [0., 1., 0., ..., 0., 0., 0.],\n",
       "       ...,\n",
       "       [0., 0., 0., ..., 0., 0., 0.],\n",
       "       [0., 0., 0., ..., 0., 0., 0.],\n",
       "       [0., 0., 0., ..., 0., 0., 0.]], dtype=float32)"
      ]
     },
     "execution_count": 25,
     "metadata": {},
     "output_type": "execute_result"
    }
   ],
   "source": [
    "testY"
   ]
  },
  {
   "cell_type": "code",
   "execution_count": 26,
   "id": "9d2e8b02",
   "metadata": {},
   "outputs": [
    {
     "data": {
      "text/plain": [
       "array([[1.3965452e-10, 7.8813976e-04, 6.3397297e-06, ..., 9.9665558e-01, 1.4329449e-06, 2.0662353e-03],\n",
       "       [1.1382798e-04, 1.8743147e-03, 9.6286225e-01, ..., 6.6114380e-06, 3.2758396e-02, 2.5169145e-05],\n",
       "       [8.8337448e-10, 9.8765147e-01, 8.8622636e-04, ..., 5.6193648e-03, 8.1001077e-04, 7.7118959e-05],\n",
       "       ...,\n",
       "       [2.1139425e-07, 3.1625742e-08, 5.1187842e-05, ..., 6.9728048e-06, 6.4596301e-04, 2.9257960e-03],\n",
       "       [2.0875046e-03, 7.2654495e-07, 8.4845291e-05, ..., 4.9499324e-08, 7.0315846e-03, 4.3853499e-05],\n",
       "       [2.8623068e-03, 1.5959646e-10, 2.5271502e-04, ..., 2.1132633e-08, 5.0039675e-06, 2.3167133e-06]], dtype=float32)"
      ]
     },
     "execution_count": 26,
     "metadata": {},
     "output_type": "execute_result"
    }
   ],
   "source": [
    "predictions"
   ]
  },
  {
   "cell_type": "code",
   "execution_count": null,
   "id": "45944d51",
   "metadata": {},
   "outputs": [],
   "source": []
  }
 ],
 "metadata": {
  "kernelspec": {
   "display_name": "Python 3",
   "language": "python",
   "name": "python3"
  },
  "language_info": {
   "codemirror_mode": {
    "name": "ipython",
    "version": 3
   },
   "file_extension": ".py",
   "mimetype": "text/x-python",
   "name": "python",
   "nbconvert_exporter": "python",
   "pygments_lexer": "ipython3",
   "version": "3.8.5"
  }
 },
 "nbformat": 4,
 "nbformat_minor": 5
}
